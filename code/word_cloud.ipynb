{
 "cells": [
  {
   "cell_type": "code",
   "execution_count": 1,
   "id": "e9a294e1",
   "metadata": {},
   "outputs": [
    {
     "name": "stdout",
     "output_type": "stream",
     "text": [
      "Index(['Incident ID', 'Year', 'Month', 'Day', 'Country Code', 'Country',\n",
      "       'Region', 'District', 'City', 'UN', 'INGO', 'ICRC', 'NRCS and IFRC',\n",
      "       'NNGO', 'Other', 'Nationals killed', 'Nationals wounded',\n",
      "       'Nationals kidnapped', 'Total nationals', 'Internationals killed',\n",
      "       'Internationals wounded', 'Internationals kidnapped',\n",
      "       'Total internationals', 'Total killed', 'Total wounded',\n",
      "       'Total kidnapped', 'Total affected', 'Gender Male', 'Gender Female',\n",
      "       'Gender Unknown', 'Means of attack', 'Attack context', 'Location',\n",
      "       'Latitude', 'Longitude', 'Motive', 'Actor type', 'Actor name',\n",
      "       'Details', 'Verified', 'Source'],\n",
      "      dtype='object')\n"
     ]
    }
   ],
   "source": [
    "import pandas as pd\n",
    "from collections import Counter\n",
    "import json\n",
    "\n",
    "# load csv file\n",
    "df = pd.read_csv('../data/security_incidents.csv')\n",
    "print(df.columns) "
   ]
  },
  {
   "cell_type": "code",
   "execution_count": 2,
   "id": "eacc6a08",
   "metadata": {},
   "outputs": [],
   "source": [
    "attack_types = df['Means of attack'].dropna().tolist()"
   ]
  },
  {
   "cell_type": "code",
   "execution_count": 3,
   "id": "3de0e743",
   "metadata": {},
   "outputs": [],
   "source": [
    "word_counts = Counter(attack_types)"
   ]
  },
  {
   "cell_type": "code",
   "execution_count": 4,
   "id": "f0f7f5ef",
   "metadata": {},
   "outputs": [],
   "source": [
    "wordcloud_data = [{'text': attack, 'value': count} for attack, count in word_counts.most_common(50)]"
   ]
  },
  {
   "cell_type": "code",
   "execution_count": 5,
   "id": "3da085bf",
   "metadata": {},
   "outputs": [],
   "source": [
    "with open('../public/assets/wordcloud_data.json', 'w') as f:\n",
    "    json.dump(wordcloud_data, f)\n"
   ]
  }
 ],
 "metadata": {
  "kernelspec": {
   "display_name": ".venv",
   "language": "python",
   "name": "python3"
  },
  "language_info": {
   "codemirror_mode": {
    "name": "ipython",
    "version": 3
   },
   "file_extension": ".py",
   "mimetype": "text/x-python",
   "name": "python",
   "nbconvert_exporter": "python",
   "pygments_lexer": "ipython3",
   "version": "3.12.3"
  }
 },
 "nbformat": 4,
 "nbformat_minor": 5
}
